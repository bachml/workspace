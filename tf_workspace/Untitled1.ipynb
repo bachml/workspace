{
 "cells": [
  {
   "cell_type": "code",
   "execution_count": 10,
   "metadata": {
    "collapsed": true
   },
   "outputs": [],
   "source": [
    "import tensorflow as tf\n",
    "import os\n",
    "from tensorflow.contrib import slim"
   ]
  },
  {
   "cell_type": "code",
   "execution_count": 12,
   "metadata": {
    "collapsed": false
   },
   "outputs": [
    {
     "ename": "NameError",
     "evalue": "global name 'dataset_utils' is not defined",
     "output_type": "error",
     "traceback": [
      "\u001b[0;31m---------------------------------------------------------------------------\u001b[0m",
      "\u001b[0;31mNameError\u001b[0m                                 Traceback (most recent call last)",
      "\u001b[0;32m<ipython-input-12-347f7ef4e451>\u001b[0m in \u001b[0;36m<module>\u001b[0;34m()\u001b[0m\n\u001b[1;32m     52\u001b[0m     \u001b[0;31m#tf.logging.set_verbosity(tf.logging.INFO)\u001b[0m\u001b[0;34m\u001b[0m\u001b[0;34m\u001b[0m\u001b[0m\n\u001b[1;32m     53\u001b[0m \u001b[0;34m\u001b[0m\u001b[0m\n\u001b[0;32m---> 54\u001b[0;31m     \u001b[0mdataset\u001b[0m \u001b[0;34m=\u001b[0m \u001b[0mget_split\u001b[0m\u001b[0;34m(\u001b[0m\u001b[0;34m'train'\u001b[0m\u001b[0;34m,\u001b[0m \u001b[0;34m'/data/zeng/tf_webface_256x256'\u001b[0m\u001b[0;34m)\u001b[0m\u001b[0;34m\u001b[0m\u001b[0m\n\u001b[0m\u001b[1;32m     55\u001b[0m     \u001b[0mimages\u001b[0m\u001b[0;34m,\u001b[0m \u001b[0m_\u001b[0m\u001b[0;34m,\u001b[0m \u001b[0mlabels\u001b[0m \u001b[0;34m=\u001b[0m \u001b[0mload_batch\u001b[0m\u001b[0;34m(\u001b[0m\u001b[0mdataset\u001b[0m\u001b[0;34m)\u001b[0m\u001b[0;34m\u001b[0m\u001b[0m\n\u001b[1;32m     56\u001b[0m \u001b[0;34m\u001b[0m\u001b[0m\n",
      "\u001b[0;32m<ipython-input-12-347f7ef4e451>\u001b[0m in \u001b[0;36mget_split\u001b[0;34m(split_name, dataset_dir, file_pattern, reader)\u001b[0m\n\u001b[1;32m     35\u001b[0m \u001b[0;34m\u001b[0m\u001b[0m\n\u001b[1;32m     36\u001b[0m \u001b[0;34m\u001b[0m\u001b[0m\n\u001b[0;32m---> 37\u001b[0;31m   \u001b[0;32mif\u001b[0m \u001b[0mdataset_utils\u001b[0m\u001b[0;34m.\u001b[0m\u001b[0mhas_labels\u001b[0m\u001b[0;34m(\u001b[0m\u001b[0mdataset_dir\u001b[0m\u001b[0;34m)\u001b[0m\u001b[0;34m:\u001b[0m\u001b[0;34m\u001b[0m\u001b[0m\n\u001b[0m\u001b[1;32m     38\u001b[0m     \u001b[0mlabels_to_names\u001b[0m \u001b[0;34m=\u001b[0m \u001b[0mdataset_utils\u001b[0m\u001b[0;34m.\u001b[0m\u001b[0mread_label_file\u001b[0m\u001b[0;34m(\u001b[0m\u001b[0mdataset_dir\u001b[0m\u001b[0;34m)\u001b[0m\u001b[0;34m\u001b[0m\u001b[0m\n\u001b[1;32m     39\u001b[0m \u001b[0;34m\u001b[0m\u001b[0m\n",
      "\u001b[0;31mNameError\u001b[0m: global name 'dataset_utils' is not defined"
     ]
    }
   ],
   "source": [
    "SPLITS_TO_SIZES = {\n",
    "  'train': 470000,\n",
    "  'validation': 10000,\n",
    "}\n",
    "_FILE_PATTERN = 'train_%s_*.tfrecord'\n",
    "\n",
    "def get_split(split_name, dataset_dir, file_pattern=None, reader=None):\n",
    "    \n",
    "    \n",
    "\n",
    "  if split_name not in SPLITS_TO_SIZES:\n",
    "    raise ValueError('split name %s was not recognized.' % split_name)\n",
    "  if not file_pattern:\n",
    "    file_pattern = _FILE_PATTERN\n",
    "  file_pattern = os.path.join(dataset_dir, file_pattern % split_name)\n",
    "  if reader is None:\n",
    "    reader = tf.TFRecordReader\n",
    "    \n",
    "  keys_to_features = {\n",
    "      'image': tf.FixedLenFeature((), tf.string, default_value=''),\n",
    "      'label': tf.FixedLenFeature(\n",
    "          [], tf.int64, default_value=tf.zeros([], dtype=tf.int64)),\n",
    "  }\n",
    "\n",
    "\n",
    "  items_to_handlers = {\n",
    "      'image': slim.tfexample_decoder.Image(),\n",
    "      'label': slim.tfexample_decoder.Tensor('label'),\n",
    "  }\n",
    "\n",
    "  decoder = slim.tfexample_decoder.TFExampleDecoder(\n",
    "      keys_to_features, items_to_handlers)\n",
    "\n",
    "  labels_to_names = None\n",
    "\n",
    "    \n",
    "  if dataset_utils.has_labels(dataset_dir):\n",
    "    labels_to_names = dataset_utils.read_label_file(dataset_dir)\n",
    "    \n",
    "  return slim.dataset.Dataset(\n",
    "      data_sources=file_pattern,\n",
    "      reader=reader,\n",
    "      decoder=decoder,\n",
    "      num_samples=SPLITS_TO_SIZES[split_name],\n",
    "      items_to_descriptions=_ITEMS_TO_DESCRIPTIONS,\n",
    "      num_classes=_NUM_CLASSES,\n",
    "      labels_to_names=labels_to_names)\n",
    "\n",
    "\n",
    "\n",
    "with tf.Graph().as_default():\n",
    "    #tf.logging.set_verbosity(tf.logging.INFO)\n",
    "\n",
    "    dataset = get_split('train', '/data/zeng/tf_webface_256x256')\n",
    "    images, _, labels = load_batch(dataset)\n",
    "\n",
    "    \n",
    "    ##\n",
    "    data_provider = slim.dataset_data_provider.DatasetDataProvider(\n",
    "        dataset, common_queue_capacity=32,\n",
    "        common_queue_min=8)\n",
    "    image_raw, label = data_provider.get(['image', 'label'])"
   ]
  },
  {
   "cell_type": "code",
   "execution_count": null,
   "metadata": {
    "collapsed": true
   },
   "outputs": [],
   "source": []
  }
 ],
 "metadata": {
  "kernelspec": {
   "display_name": "Python 2",
   "language": "python",
   "name": "python2"
  },
  "language_info": {
   "codemirror_mode": {
    "name": "ipython",
    "version": 2
   },
   "file_extension": ".py",
   "mimetype": "text/x-python",
   "name": "python",
   "nbconvert_exporter": "python",
   "pygments_lexer": "ipython2",
   "version": "2.7.6"
  }
 },
 "nbformat": 4,
 "nbformat_minor": 2
}
