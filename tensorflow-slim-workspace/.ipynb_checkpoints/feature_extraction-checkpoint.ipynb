{
 "cells": [
  {
   "cell_type": "code",
   "execution_count": 1,
   "metadata": {
    "collapsed": false
   },
   "outputs": [
    {
     "ename": "ValueError",
     "evalue": "var_list cannot be empty",
     "output_type": "error",
     "traceback": [
      "\u001b[0;31m---------------------------------------------------------------------------\u001b[0m",
      "\u001b[0;31mValueError\u001b[0m                                Traceback (most recent call last)",
      "\u001b[0;32m<ipython-input-1-196cbb36697c>\u001b[0m in \u001b[0;36m<module>\u001b[0;34m()\u001b[0m\n\u001b[1;32m     33\u001b[0m         \u001b[0;31m# load model\u001b[0m\u001b[0;34m\u001b[0m\u001b[0;34m\u001b[0m\u001b[0m\n\u001b[1;32m     34\u001b[0m         init_fn = slim.assign_from_checkpoint_fn(\n\u001b[0;32m---> 35\u001b[0;31m             '/data/zeng/253_model/model.ckpt-28000', slim.get_model_variables('InceptionResnetV1'))\n\u001b[0m\u001b[1;32m     36\u001b[0m         \u001b[0minit_fn\u001b[0m\u001b[0;34m(\u001b[0m\u001b[0msess\u001b[0m\u001b[0;34m)\u001b[0m\u001b[0;34m\u001b[0m\u001b[0m\n\u001b[1;32m     37\u001b[0m         \u001b[0;31m# reader loop\u001b[0m\u001b[0;34m\u001b[0m\u001b[0;34m\u001b[0m\u001b[0m\n",
      "\u001b[0;32m/usr/local/lib/python2.7/dist-packages/tensorflow/contrib/framework/python/ops/variables.pyc\u001b[0m in \u001b[0;36massign_from_checkpoint_fn\u001b[0;34m(model_path, var_list, ignore_missing_vars, reshape_variables)\u001b[0m\n\u001b[1;32m    634\u001b[0m   \"\"\"\n\u001b[1;32m    635\u001b[0m   \u001b[0;32mif\u001b[0m \u001b[0;32mnot\u001b[0m \u001b[0mvar_list\u001b[0m\u001b[0;34m:\u001b[0m\u001b[0;34m\u001b[0m\u001b[0m\n\u001b[0;32m--> 636\u001b[0;31m     \u001b[0;32mraise\u001b[0m \u001b[0mValueError\u001b[0m\u001b[0;34m(\u001b[0m\u001b[0;34m'var_list cannot be empty'\u001b[0m\u001b[0;34m)\u001b[0m\u001b[0;34m\u001b[0m\u001b[0m\n\u001b[0m\u001b[1;32m    637\u001b[0m   \u001b[0;32mif\u001b[0m \u001b[0mignore_missing_vars\u001b[0m\u001b[0;34m:\u001b[0m\u001b[0;34m\u001b[0m\u001b[0m\n\u001b[1;32m    638\u001b[0m     \u001b[0mreader\u001b[0m \u001b[0;34m=\u001b[0m \u001b[0mpywrap_tensorflow\u001b[0m\u001b[0;34m.\u001b[0m\u001b[0mNewCheckpointReader\u001b[0m\u001b[0;34m(\u001b[0m\u001b[0mmodel_path\u001b[0m\u001b[0;34m)\u001b[0m\u001b[0;34m\u001b[0m\u001b[0m\n",
      "\u001b[0;31mValueError\u001b[0m: var_list cannot be empty"
     ]
    }
   ],
   "source": [
    "import tensorflow as tf\n",
    "\n",
    "from nets import inception_resnet_v1\n",
    "from nets.inception_resnet_v1 import *\n",
    "from preprocessing import face_preprocessing\n",
    "from tensorflow.contrib import slim\n",
    "import urllib2\n",
    "\n",
    "#image_size = 224\n",
    "\n",
    "\n",
    "from preprocessing import inception_preprocessing\n",
    "\n",
    "filelist = 'intra_id256.txt'\n",
    "dim = 1736\n",
    "\n",
    "\n",
    "def util_countLine(path):\n",
    "    numLine = 0\n",
    "    reader = open(path)\n",
    "    while 1:\n",
    "        line = reader.readline()\n",
    "        if not line:\n",
    "            break\n",
    "        numLine = numLine + 1\n",
    "    return numLine\n",
    "\n",
    "\n",
    "with tf.Graph().as_default():\n",
    "    \n",
    "     url = (\"file:/home/zeng\")\n",
    "     image_string = urllib2.urlopen(url).read()\n",
    "     image = tf.image.decode_jpeg(image_string, channels=3)\n",
    "     processed_image = face_preprocessing.preprocess_image(image, image_size, image_size, is_training=False)\n",
    "     processed_images  = tf.expand_dims(processed_image, 0)\n",
    "    \n",
    "    with slim.arg_scope(inception_resnet_v1_arg_scope()):\n",
    "           _, end_points = inception_resnet_v1(processed_images, num_classes=10572, is_training=False)\n",
    "        \n",
    "    \n",
    "   \n",
    "    feature_PreLogitsFlatten = end_points['PreLogitsFlatten']\n",
    "    \n",
    "    with tf.Session() as sess:\n",
    "        \n",
    "        # load model\n",
    "        init_fn = slim.assign_from_checkpoint_fn(\n",
    "            '/data/zeng/253_model/model.ckpt-28000', slim.get_model_variables('InceptionResnetV1'))\n",
    "        init_fn(sess)\n",
    "        # reader loop\n",
    "        file = open(filelist)\n",
    "        num = util_countLine(filelist)\n",
    "        feature_batch = np.zeros((num, dim))\n",
    "        i = 0\n",
    "        while True:\n",
    "            i = i + 1\n",
    "            line = file.readline()\n",
    "            if not line:\n",
    "                break\n",
    "            pass\n",
    "            \n",
    "            \n",
    "            if(i%100==0):\n",
    "                print('iter:' + str(i))\n",
    "            image_path = line.strip('\\n')\n",
    "            url = (\"file:\" + image_path)\n",
    "            image_string = urllib2.urlopen(url).read()\n",
    "            image = tf.image.decode_jpeg(image_string, channels=3)\n",
    "            processed_image = face_preprocessing.preprocess_image(image, image_size, image_size, is_training=False)\n",
    "            processed_images  = tf.expand_dims(processed_image, 0)\n",
    "    \n",
    "            with slim.arg_scope(inception_resnet_v1_arg_scope()):\n",
    "                _, end_points = inception_resnet_v1(processed_images, num_classes=10572, is_training=False)\n",
    "        \n",
    "    \n",
    "   \n",
    "            feature_PreLogitsFlatten = end_points['PreLogitsFlatten']\n",
    "    \n",
    "    \n",
    "            \n",
    "            np_image, feature = sess.run([image, feature_PreLogitsFlatten])\n",
    "            break\n",
    "    \n",
    "    \n",
    "    print(5)\n",
    "    \n",
    "    \n",
    "    \n",
    "    \n",
    "        "
   ]
  },
  {
   "cell_type": "code",
   "execution_count": null,
   "metadata": {
    "collapsed": false
   },
   "outputs": [],
   "source": [
    "feature.shape"
   ]
  },
  {
   "cell_type": "code",
   "execution_count": null,
   "metadata": {
    "collapsed": true
   },
   "outputs": [],
   "source": []
  },
  {
   "cell_type": "code",
   "execution_count": null,
   "metadata": {
    "collapsed": true
   },
   "outputs": [],
   "source": []
  }
 ],
 "metadata": {
  "kernelspec": {
   "display_name": "Python 2",
   "language": "python",
   "name": "python2"
  },
  "language_info": {
   "codemirror_mode": {
    "name": "ipython",
    "version": 2
   },
   "file_extension": ".py",
   "mimetype": "text/x-python",
   "name": "python",
   "nbconvert_exporter": "python",
   "pygments_lexer": "ipython2",
   "version": "2.7.6"
  }
 },
 "nbformat": 4,
 "nbformat_minor": 2
}
