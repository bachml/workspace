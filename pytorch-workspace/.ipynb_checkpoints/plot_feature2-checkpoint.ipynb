{
 "cells": [
  {
   "cell_type": "code",
   "execution_count": 4,
   "metadata": {
    "collapsed": false
   },
   "outputs": [
    {
     "name": "stdout",
     "output_type": "stream",
     "text": [
      "done\n"
     ]
    }
   ],
   "source": [
    "from __future__ import print_function\n",
    "import argparse\n",
    "import os\n",
    "import shutil\n",
    "import time\n",
    "\n",
    "import torch\n",
    "import torch.nn as nn\n",
    "import torch.nn.parallel\n",
    "import torch.backends.cudnn as cudnn\n",
    "import torch.optim\n",
    "import torch.utils.data\n",
    "import torch.nn.functional as F\n",
    "import torchvision.transforms as transforms\n",
    "import torchvision.datasets as datasets\n",
    "from nets.light_cnn import LightCNN_9Layers\n",
    "from nets.deepid import *\n",
    "from nets.net_sphere import *\n",
    "from nets.vgg import *\n",
    "import numpy as np\n",
    "import cv2\n",
    "\n",
    "import numpy as np\n",
    "import matplotlib.pyplot as plt\n",
    "\n",
    "def vis_square(data):\n",
    "    \"\"\"Take an array of shape (n, height, width) or (n, height, width, 3)\n",
    "       and visualize each (height, width) thing in a grid of size approx. sqrt(n) by sqrt(n)\"\"\"\n",
    "    \n",
    "    # normalize data for display\n",
    "    data = (data - data.min()) / (data.max() - data.min())\n",
    "    \n",
    "    # force the number of filters to be square\n",
    "    n = int(np.ceil(np.sqrt(data.shape[0])))\n",
    "    padding = (((0, n ** 2 - data.shape[0]),\n",
    "               (0, 1), (0, 1))                 # add some space between filters\n",
    "               + ((0, 0),) * (data.ndim - 3))  # don't pad the last dimension (if there is one)\n",
    "    data = np.pad(data, padding, mode='constant', constant_values=1)  # pad with ones (white)\n",
    "    \n",
    "    # tile the filters into an image\n",
    "    data = data.reshape((n, n) + data.shape[1:]).transpose((0, 2, 1, 3) + tuple(range(4, data.ndim + 1)))\n",
    "    data = data.reshape((n * data.shape[1], n * data.shape[3]) + data.shape[4:])\n",
    "    \n",
    "    plt.imshow(data); plt.axis('off')\n",
    "    \n",
    "    \n",
    "    \n",
    "networks_map = {'LightCNN-9': LightCNN_9Layers,\n",
    "\t\t'DeepID_256' : DeepID_256,\n",
    "               'DeepID_256_gray' : DeepID_256_gray,\n",
    "               'DeepID_128_gray' : DeepID_128_gray,\n",
    "               'sphere20' : sphere20,\n",
    "               'vgg11' : vgg11}\n",
    "\n",
    "def get_network_fn(model_name, num_classes, weight_decay=0):\n",
    "    if model_name not in networks_map:\n",
    "        raise ValueError('Name of network unknown %s' % model_name)\n",
    "    func = networks_map[model_name]\n",
    "    return func(num_classes=num_classes)\n",
    "\n",
    "\n",
    "    \n",
    "cudnn.benchmark = True\n",
    "    \n",
    "resume = True\n",
    "    \n",
    "\n",
    "    \n",
    "model = get_network_fn(model_name='sphere20', num_classes=10572, weight_decay=0)\n",
    "\n",
    "    \n",
    "#model.eval()\n",
    "   \n",
    "model = torch.nn.DataParallel(model).cuda()\n",
    "\n",
    "\n",
    "\n",
    "if resume:\n",
    "    checkpoint = torch.load('/data/zeng/pytorch_model/lightCNN_18_checkpoint.pth.tar')\n",
    "    model.load_state_dict(checkpoint['state_dict'])\n",
    "else:\n",
    "    print(\"=> no checkpoint found at '{}'\".format(args.resume))\n",
    "\n",
    "transform = transforms.Compose([transforms.ToTensor()])\n",
    "count     = 0\n",
    "input     = torch.zeros(1, 1, 256, 256)\n",
    "    \n",
    "\n",
    "img   = cv2.imread('256.jpg', cv2.IMREAD_GRAYSCALE)\n",
    "#img   = cv2.resize(img, (128,128))\n",
    "img   = np.reshape(img, (256, 256, 1))\n",
    "img   = transform(img)\n",
    "input[0,:,:,:] = img\n",
    "\n",
    "     \n",
    "nput = input.cuda()\n",
    "input_var   = torch.autograd.Variable(input, volatile=True)\n",
    "_, features, conv1_map = model(input_var)\n",
    "\n",
    "print('done')\n"
   ]
  },
  {
   "cell_type": "code",
   "execution_count": 5,
   "metadata": {
    "collapsed": true
   },
   "outputs": [],
   "source": [
    "model_dict = model.state_dict()"
   ]
  },
  {
   "cell_type": "code",
   "execution_count": 6,
   "metadata": {
    "collapsed": false
   },
   "outputs": [
    {
     "data": {
      "text/plain": [
       "torch.Size([64, 1, 7, 7])"
      ]
     },
     "execution_count": 6,
     "metadata": {},
     "output_type": "execute_result"
    }
   ],
   "source": [
    "x = model_dict['module.conv1_1.weight']\n",
    "x.shape"
   ]
  },
  {
   "cell_type": "code",
   "execution_count": 7,
   "metadata": {
    "collapsed": false
   },
   "outputs": [],
   "source": [
    "x = x.cpu().numpy()\n"
   ]
  },
  {
   "cell_type": "code",
   "execution_count": 9,
   "metadata": {
    "collapsed": false
   },
   "outputs": [
    {
     "data": {
      "text/plain": [
       "array([[[ -7.70100916e-04,  -5.30923717e-02,  -8.27594772e-02, ...,\n",
       "          -1.12971440e-01,  -9.19398665e-02,  -5.19350059e-02],\n",
       "        [ -9.24979821e-02,  -1.34965777e-01,  -1.66005194e-01, ...,\n",
       "          -2.05518723e-01,  -1.79196224e-01,  -1.38189226e-01],\n",
       "        [ -4.59795147e-02,  -8.79488364e-02,  -1.14809044e-01, ...,\n",
       "          -1.44203007e-01,  -1.20055206e-01,  -8.58046487e-02],\n",
       "        ..., \n",
       "        [  1.48585346e-02,  -6.85511250e-03,  -2.20863689e-02, ...,\n",
       "          -3.08924560e-02,  -1.20551707e-02,  -2.11474369e-03],\n",
       "        [  7.58529408e-03,  -1.01346280e-02,  -1.78624522e-02, ...,\n",
       "          -1.60192121e-02,  -5.92501508e-03,   7.74477096e-03],\n",
       "        [  1.49266934e-02,   5.71597740e-03,   1.20110111e-02, ...,\n",
       "           2.33823825e-02,   2.38838382e-02,   3.63039412e-02]],\n",
       "\n",
       "       [[ -2.42462084e-02,  -2.83199083e-02,  -3.08440626e-02, ...,\n",
       "          -3.20107751e-02,  -2.70665847e-02,  -1.96341742e-02],\n",
       "        [ -2.63262633e-02,  -2.96616443e-02,  -3.38706039e-02, ...,\n",
       "          -3.80143337e-02,  -3.11766714e-02,  -2.41333395e-02],\n",
       "        [ -2.30176412e-02,  -2.82565113e-02,  -3.26138996e-02, ...,\n",
       "          -3.56110074e-02,  -2.87992544e-02,  -2.20114589e-02],\n",
       "        ..., \n",
       "        [ -1.30495336e-02,  -1.58722047e-02,  -2.03730036e-02, ...,\n",
       "          -2.15837266e-02,  -1.52817927e-02,  -1.10389488e-02],\n",
       "        [ -4.27121622e-03,  -6.49703201e-03,  -9.85435210e-03, ...,\n",
       "          -1.03401858e-02,  -5.27844951e-03,  -9.57849901e-04],\n",
       "        [  3.19192326e-03,   1.38606725e-03,  -1.69075749e-04, ...,\n",
       "           1.12826005e-03,   4.67220554e-03,   9.02320538e-03]],\n",
       "\n",
       "       [[ -4.53041829e-02,  -7.88586289e-02,  -6.67090863e-02, ...,\n",
       "          -8.43844842e-03,   2.44916864e-02,   6.48664683e-02],\n",
       "        [ -5.71334586e-02,  -9.54737514e-02,  -8.31003934e-02, ...,\n",
       "          -3.16939354e-02,   8.20782594e-03,   5.46237044e-02],\n",
       "        [ -6.89417869e-02,  -1.10476151e-01,  -1.02083206e-01, ...,\n",
       "          -4.61749211e-02,   2.20131804e-03,   4.76862267e-02],\n",
       "        ..., \n",
       "        [ -7.23668337e-02,  -1.13381602e-01,  -1.07468747e-01, ...,\n",
       "          -5.08094169e-02,  -4.90999408e-03,   3.42492796e-02],\n",
       "        [ -5.02391458e-02,  -8.94017890e-02,  -8.05000663e-02, ...,\n",
       "          -3.51408087e-02,   2.67210603e-03,   3.98723520e-02],\n",
       "        [ -1.87435988e-02,  -5.46465702e-02,  -4.57764603e-02, ...,\n",
       "          -9.66654159e-04,   3.49241607e-02,   6.57077655e-02]],\n",
       "\n",
       "       ..., \n",
       "       [[  3.27525772e-02,   4.97071492e-03,  -9.49580781e-03, ...,\n",
       "          -2.72570197e-02,   2.35249046e-02,   8.02120864e-02],\n",
       "        [  7.06018531e-04,  -4.19939533e-02,  -6.97430000e-02, ...,\n",
       "          -1.06649004e-01,  -6.20877780e-02,  -2.72596069e-03],\n",
       "        [  3.48597839e-02,  -2.84035373e-02,  -6.82797879e-02, ...,\n",
       "          -1.08987950e-01,  -5.73244840e-02,  -1.09982328e-03],\n",
       "        ..., \n",
       "        [  4.18118462e-02,  -2.29264610e-03,  -3.56805548e-02, ...,\n",
       "          -6.00158088e-02,  -4.37011104e-03,   2.51525939e-02],\n",
       "        [  6.76678196e-02,   4.03087325e-02,   1.87842064e-02, ...,\n",
       "          -5.13556693e-03,   3.12034413e-02,   6.19932674e-02],\n",
       "        [  9.69586596e-02,   7.74686411e-02,   7.36144185e-02, ...,\n",
       "           5.18050753e-02,   7.09080473e-02,   1.02589242e-01]],\n",
       "\n",
       "       [[ -2.30023675e-02,  -7.44253397e-02,  -8.43878761e-02, ...,\n",
       "          -8.63431171e-02,  -5.42670079e-02,  -6.05129590e-03],\n",
       "        [ -1.09478965e-01,  -1.66481435e-01,  -1.76972225e-01, ...,\n",
       "          -1.73642695e-01,  -1.34708211e-01,  -8.91176388e-02],\n",
       "        [ -8.07767659e-02,  -1.46377757e-01,  -1.61504865e-01, ...,\n",
       "          -1.57154709e-01,  -1.22669883e-01,  -7.85892457e-02],\n",
       "        ..., \n",
       "        [ -3.20262164e-02,  -8.04919526e-02,  -9.80032608e-02, ...,\n",
       "          -8.18296298e-02,  -5.96475452e-02,  -4.41285968e-02],\n",
       "        [ -1.43240774e-02,  -5.30251563e-02,  -6.11313321e-02, ...,\n",
       "          -4.64124456e-02,  -4.20922674e-02,  -2.55774092e-02],\n",
       "        [  6.91116275e-03,  -1.75545104e-02,  -1.24567607e-02, ...,\n",
       "          -1.20580592e-03,  -5.88794146e-03,   3.04034306e-03]],\n",
       "\n",
       "       [[ -4.98966037e-05,   2.46504733e-05,   3.60981903e-05, ...,\n",
       "          -3.26135487e-05,   2.73520563e-05,   2.70501027e-06],\n",
       "        [  1.07371570e-05,   4.31367625e-05,   1.06773268e-05, ...,\n",
       "          -1.74978559e-05,  -6.21243544e-06,   1.97915615e-05],\n",
       "        [  8.14576924e-06,  -2.36403321e-06,   1.37336392e-05, ...,\n",
       "           2.94202764e-05,   5.51100638e-05,  -3.12301709e-05],\n",
       "        ..., \n",
       "        [ -4.84204102e-05,  -1.37697507e-05,  -6.77986554e-06, ...,\n",
       "          -5.69673057e-06,   3.25779365e-05,  -4.17985466e-05],\n",
       "        [ -5.01171744e-05,   1.64025314e-05,  -1.99448059e-05, ...,\n",
       "          -1.18586058e-05,  -5.93723998e-05,   3.01740583e-05],\n",
       "        [ -7.69888447e-06,  -6.70495865e-05,   2.73875248e-05, ...,\n",
       "          -5.88154726e-05,   1.13554524e-05,   3.07302653e-05]]], dtype=float32)"
      ]
     },
     "execution_count": 9,
     "metadata": {},
     "output_type": "execute_result"
    }
   ],
   "source": [
    "x"
   ]
  },
  {
   "cell_type": "code",
   "execution_count": null,
   "metadata": {
    "collapsed": true
   },
   "outputs": [],
   "source": []
  }
 ],
 "metadata": {
  "kernelspec": {
   "display_name": "Python 2",
   "language": "python",
   "name": "python2"
  },
  "language_info": {
   "codemirror_mode": {
    "name": "ipython",
    "version": 2
   },
   "file_extension": ".py",
   "mimetype": "text/x-python",
   "name": "python",
   "nbconvert_exporter": "python",
   "pygments_lexer": "ipython2",
   "version": "2.7.6"
  }
 },
 "nbformat": 4,
 "nbformat_minor": 2
}
