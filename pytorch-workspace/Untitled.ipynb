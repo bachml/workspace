{
 "cells": [
  {
   "cell_type": "code",
   "execution_count": 7,
   "metadata": {},
   "outputs": [],
   "source": [
    "import torchvision\n",
    "import torch\n",
    "import torch.nn as nn\n",
    "import torch.autograd as autograd"
   ]
  },
  {
   "cell_type": "code",
   "execution_count": 22,
   "metadata": {},
   "outputs": [],
   "source": [
    "m = nn.BatchNorm2d(2, affine=False)\n",
    "input = autograd.Variable(torch.randn(3, 2, 3, 3))"
   ]
  },
  {
   "cell_type": "code",
   "execution_count": 23,
   "metadata": {},
   "outputs": [],
   "source": [
    "output = m(input)"
   ]
  },
  {
   "cell_type": "code",
   "execution_count": 24,
   "metadata": {},
   "outputs": [
    {
     "data": {
      "text/plain": [
       "torch.Size([3, 2, 3, 3])"
      ]
     },
     "execution_count": 24,
     "metadata": {},
     "output_type": "execute_result"
    }
   ],
   "source": [
    "output.size()"
   ]
  },
  {
   "cell_type": "code",
   "execution_count": 25,
   "metadata": {},
   "outputs": [
    {
     "data": {
      "text/plain": [
       "torch.Size([3, 2, 3, 3])"
      ]
     },
     "execution_count": 25,
     "metadata": {},
     "output_type": "execute_result"
    }
   ],
   "source": [
    "input.size()"
   ]
  },
  {
   "cell_type": "code",
   "execution_count": 26,
   "metadata": {},
   "outputs": [
    {
     "data": {
      "text/plain": [
       "Variable containing:\n",
       "(0 ,0 ,.,.) = \n",
       " -0.2196 -1.9840 -0.1135\n",
       " -0.5458  0.9000  1.1143\n",
       "  1.4487  0.2819 -0.2183\n",
       "\n",
       "(0 ,1 ,.,.) = \n",
       "  0.1970  2.0901 -0.5679\n",
       " -1.0818 -0.1545  0.7341\n",
       " -0.8842 -1.4681  1.5651\n",
       "\n",
       "(1 ,0 ,.,.) = \n",
       " -0.4031  0.5182 -0.3260\n",
       "  1.0700 -0.0710  1.9469\n",
       " -0.4763  0.7281 -0.1359\n",
       "\n",
       "(1 ,1 ,.,.) = \n",
       " -0.3105  1.2295 -1.2021\n",
       " -1.1777  0.1558 -0.8877\n",
       " -0.9655 -0.6381  1.5601\n",
       "\n",
       "(2 ,0 ,.,.) = \n",
       "  0.5167  1.7638  1.1132\n",
       " -1.4092  0.0617  0.2186\n",
       "  0.9711 -1.5501 -0.4155\n",
       "\n",
       "(2 ,1 ,.,.) = \n",
       " -0.9244  0.8853  0.3192\n",
       "  3.8154  0.1054  0.2098\n",
       " -0.5478  1.9477 -0.2551\n",
       "[torch.FloatTensor of size 3x2x3x3]"
      ]
     },
     "execution_count": 26,
     "metadata": {},
     "output_type": "execute_result"
    }
   ],
   "source": [
    "input"
   ]
  },
  {
   "cell_type": "code",
   "execution_count": 29,
   "metadata": {},
   "outputs": [
    {
     "ename": "SyntaxError",
     "evalue": "invalid syntax (<ipython-input-29-ba4713ec9b42>, line 1)",
     "output_type": "error",
     "traceback": [
      "\u001b[0;36m  File \u001b[0;32m\"<ipython-input-29-ba4713ec9b42>\"\u001b[0;36m, line \u001b[0;32m1\u001b[0m\n\u001b[0;31m    output[0,0,.,.]\u001b[0m\n\u001b[0m                ^\u001b[0m\n\u001b[0;31mSyntaxError\u001b[0m\u001b[0;31m:\u001b[0m invalid syntax\n"
     ]
    }
   ],
   "source": [
    "output[0,0,.,.]"
   ]
  },
  {
   "cell_type": "code",
   "execution_count": null,
   "metadata": {},
   "outputs": [],
   "source": []
  }
 ],
 "metadata": {
  "kernelspec": {
   "display_name": "Python 2",
   "language": "python",
   "name": "python2"
  },
  "language_info": {
   "codemirror_mode": {
    "name": "ipython",
    "version": 2
   },
   "file_extension": ".py",
   "mimetype": "text/x-python",
   "name": "python",
   "nbconvert_exporter": "python",
   "pygments_lexer": "ipython2",
   "version": "2.7.12"
  }
 },
 "nbformat": 4,
 "nbformat_minor": 2
}
